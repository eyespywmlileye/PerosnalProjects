{
 "cells": [
  {
   "cell_type": "markdown",
   "metadata": {},
   "source": [
    "Setup and get Data"
   ]
  },
  {
   "cell_type": "markdown",
   "metadata": {},
   "source": [
    "1.1 Install dependencies and Setup \n",
    "> labelme \n",
    "\n",
    "> tensorflow \n",
    "\n",
    "> tensorflow-gpu \n",
    "\n",
    "> open cv\n",
    "\n",
    "> python \n",
    "\n",
    "> matplotlib \n",
    "\n",
    "> Albumentations (for data augmenetation)"
   ]
  },
  {
   "cell_type": "markdown",
   "metadata": {},
   "source": [
    "1.2. Colllected images using OpenCV "
   ]
  },
  {
   "cell_type": "code",
   "execution_count": 1,
   "metadata": {},
   "outputs": [],
   "source": [
    "import os \n",
    "import time \n",
    "import uuid\n",
    "import cv2"
   ]
  },
  {
   "cell_type": "code",
   "execution_count": 2,
   "metadata": {},
   "outputs": [
    {
     "data": {
      "text/plain": [
       "UUID('b74999a3-c680-11ed-a55d-a8934a84f126')"
      ]
     },
     "execution_count": 2,
     "metadata": {},
     "output_type": "execute_result"
    }
   ],
   "source": [
    "#uuid allows us to create a uniform unique identifier to create unique files names for our images \n",
    "uuid.uuid1() "
   ]
  },
  {
   "cell_type": "code",
   "execution_count": 3,
   "metadata": {},
   "outputs": [],
   "source": [
    "IMG_PATH = os.path.join('data' ,'images')\n",
    "number_images = 30 "
   ]
  },
  {
   "cell_type": "code",
   "execution_count": 5,
   "metadata": {},
   "outputs": [],
   "source": [
    "# # Establish a line to webcame \n",
    "# cam_num= 0\n",
    "# cap = cv2.VideoCapture(cam_num) # camera number \n",
    "# for imgnum in range (number_images): \n",
    "#     print('collecting images {}'. format(imgnum))\n",
    "#     ret , frame = cap.read()\n",
    "#     imgname = os.path.join(IMG_PATH,f'{str(uuid.uuid1())}.jpg')\n",
    "#     cv2.imwrite(imgname , frame )\n",
    "#     cv2.imshow('frame' , frame )\n",
    "#     time.sleep (0.5)\n",
    "\n",
    "# #Break out of the loop \n",
    "\n",
    "#     if cv2.waitKey(1) & 0xFF == ord('q'): \n",
    "#         break\n",
    "# cap.release()\n",
    "# cv2.destroyAllWindows()"
   ]
  },
  {
   "cell_type": "markdown",
   "metadata": {},
   "source": [
    "1.3 Annoatate images with LabelMe"
   ]
  },
  {
   "cell_type": "code",
   "execution_count": 6,
   "metadata": {},
   "outputs": [],
   "source": [
    "# !labelme"
   ]
  },
  {
   "cell_type": "markdown",
   "metadata": {},
   "source": [
    "`Review Dataset and build image loading function `"
   ]
  },
  {
   "cell_type": "markdown",
   "metadata": {},
   "source": [
    "2.1 Import Tensorflow and Dependencies\n",
    "\n"
   ]
  },
  {
   "cell_type": "code",
   "execution_count": 2,
   "metadata": {},
   "outputs": [],
   "source": [
    "import tensorflow as tf \n",
    "import numpy as np \n",
    "import matplotlib.pyplot as plt \n",
    "import json "
   ]
  },
  {
   "cell_type": "markdown",
   "metadata": {},
   "source": [
    "2.2 Limit GPU memory growth \n"
   ]
  },
  {
   "cell_type": "code",
   "execution_count": 8,
   "metadata": {},
   "outputs": [],
   "source": [
    "#Avoid Out Of Memory  errors by setting GPU mememroy consumption growth \n",
    "\n",
    "gpus = tf.config.experimental.list_physical_devices('GPU')\n",
    "for gpu in gpus: \n",
    "    tf.config.experimental.set_memory_growth(gpu , True)"
   ]
  },
  {
   "cell_type": "code",
   "execution_count": 9,
   "metadata": {},
   "outputs": [
    {
     "data": {
      "text/plain": [
       "[PhysicalDevice(name='/physical_device:GPU:0', device_type='GPU')]"
      ]
     },
     "execution_count": 9,
     "metadata": {},
     "output_type": "execute_result"
    }
   ],
   "source": [
    "tf.config.list_physical_devices('GPU')"
   ]
  },
  {
   "cell_type": "markdown",
   "metadata": {},
   "source": [
    "2.3 Load images into tf data pipeline"
   ]
  },
  {
   "cell_type": "code",
   "execution_count": null,
   "metadata": {},
   "outputs": [],
   "source": [
    "images  = tf.data.Dataset.list_files(r\"data\\images\\*.jpg\" , shuffle = False)\n",
    "images.as_numpy_iterator().next()\n"
   ]
  },
  {
   "cell_type": "code",
   "execution_count": 11,
   "metadata": {},
   "outputs": [],
   "source": [
    "def load_images(x): \n",
    "    img = tf.io.read_file(x) # returns a byte encoded images\n",
    "    images = tf.io.decode_jpeg(img) # decoded a btye encoded images\n",
    "    return images"
   ]
  },
  {
   "cell_type": "code",
   "execution_count": 12,
   "metadata": {},
   "outputs": [],
   "source": [
    "# images = images.map(load_images)"
   ]
  },
  {
   "cell_type": "code",
   "execution_count": 13,
   "metadata": {},
   "outputs": [],
   "source": [
    "# images.as_numpy_iterator().next()"
   ]
  },
  {
   "cell_type": "code",
   "execution_count": 14,
   "metadata": {},
   "outputs": [],
   "source": [
    "# type(images )"
   ]
  },
  {
   "cell_type": "markdown",
   "metadata": {},
   "source": [
    "\n",
    "2.4. View Raw images with matplotlib "
   ]
  },
  {
   "cell_type": "code",
   "execution_count": 15,
   "metadata": {},
   "outputs": [],
   "source": [
    "# import glob \n",
    "\n",
    "# all_files = glob.glob(r\"data\\images\\*.jpg\")\n",
    "# all_files[1]"
   ]
  },
  {
   "cell_type": "code",
   "execution_count": 16,
   "metadata": {},
   "outputs": [],
   "source": [
    "# import matplotlib.image as mping \n",
    "\n",
    "\n",
    "# img = mping.imread(all_files[1])\n",
    "# plt.imshow(img)\n"
   ]
  },
  {
   "cell_type": "code",
   "execution_count": 17,
   "metadata": {},
   "outputs": [],
   "source": [
    "# # Make a batchof all the images\n",
    "# image_generator = images.batch(8).as_numpy_iterator()\n",
    "# plot_images = image_generator.next()"
   ]
  },
  {
   "cell_type": "code",
   "execution_count": 18,
   "metadata": {},
   "outputs": [],
   "source": [
    "# fig ,ax = plt.subplots(ncols = 8 , figsize =( 30,20 ))\n",
    "# for i, v in enumerate (plot_images): \n",
    "#     ax[i].imshow(v)\n",
    "# plt.show()"
   ]
  },
  {
   "cell_type": "markdown",
   "metadata": {},
   "source": [
    "`Parition Unaugemented Data `"
   ]
  },
  {
   "cell_type": "code",
   "execution_count": 19,
   "metadata": {},
   "outputs": [],
   "source": [
    "import glob "
   ]
  },
  {
   "cell_type": "code",
   "execution_count": 29,
   "metadata": {},
   "outputs": [
    {
     "data": {
      "text/plain": [
       "84"
      ]
     },
     "execution_count": 29,
     "metadata": {},
     "output_type": "execute_result"
    }
   ],
   "source": [
    "len(glob.glob(r\"C:\\Users\\thibe\\OneDrive\\Desktop\\Object Detection\\data\\train\\images\\*.jpg\"))"
   ]
  },
  {
   "cell_type": "code",
   "execution_count": 30,
   "metadata": {},
   "outputs": [
    {
     "data": {
      "text/plain": [
       "18"
      ]
     },
     "execution_count": 30,
     "metadata": {},
     "output_type": "execute_result"
    }
   ],
   "source": [
    "120*.7 # to train \n",
    "18 # to test \n",
    "18 # to val "
   ]
  },
  {
   "cell_type": "code",
   "execution_count": 31,
   "metadata": {},
   "outputs": [],
   "source": [
    "import random \n",
    "import shutil "
   ]
  },
  {
   "cell_type": "markdown",
   "metadata": {},
   "source": [
    "3.1 split data into train/test/val"
   ]
  },
  {
   "cell_type": "code",
   "execution_count": 33,
   "metadata": {},
   "outputs": [],
   "source": [
    "# p = 17\n",
    "# for i in range(18):\n",
    "#     j = random.randint(0,p)\n",
    "#     shutil.move(glob.glob(r\"C:\\Users\\thibe\\OneDrive\\Desktop\\Object Detection\\data\\images\\*.jpg\")[j], r\"C:\\Users\\thibe\\OneDrive\\Desktop\\Object Detection\\val\\images\")\n",
    "#     p -=1 \n",
    "    "
   ]
  },
  {
   "cell_type": "code",
   "execution_count": 34,
   "metadata": {},
   "outputs": [
    {
     "data": {
      "text/plain": [
       "18"
      ]
     },
     "execution_count": 34,
     "metadata": {},
     "output_type": "execute_result"
    }
   ],
   "source": [
    "len(glob.glob(r\"C:\\Users\\thibe\\OneDrive\\Desktop\\Object Detection\\data\\test\\images\\*.jpg\"))"
   ]
  },
  {
   "cell_type": "code",
   "execution_count": 35,
   "metadata": {},
   "outputs": [
    {
     "data": {
      "text/plain": [
       "18"
      ]
     },
     "execution_count": 35,
     "metadata": {},
     "output_type": "execute_result"
    }
   ],
   "source": [
    "len(glob.glob(r\"C:\\Users\\thibe\\OneDrive\\Desktop\\Object Detection\\data\\val\\images\\*.jpg\"))"
   ]
  },
  {
   "cell_type": "code",
   "execution_count": 36,
   "metadata": {},
   "outputs": [
    {
     "data": {
      "text/plain": [
       "0"
      ]
     },
     "execution_count": 36,
     "metadata": {},
     "output_type": "execute_result"
    }
   ],
   "source": [
    "len(glob.glob(r\"C:\\Users\\thibe\\OneDrive\\Desktop\\Object Detection\\train\\images\\*.jpg\"))"
   ]
  },
  {
   "cell_type": "markdown",
   "metadata": {},
   "source": [
    "3.2 Move the matching labels "
   ]
  },
  {
   "cell_type": "code",
   "execution_count": 37,
   "metadata": {},
   "outputs": [],
   "source": [
    "# # Move the matching labels from the data files to the repsective train/test/val folders \n",
    "# for folder in [\"train\" , \"test\" , \"val\"]: \n",
    "#     for file in os.listdir(os.path.join (\"data\", folder , \"images\")): \n",
    "        \n",
    "#         filename = file.split(\".\")[0] + '.json'\n",
    "#         exisiing_filepath = os.path.join(\"data\", \"labels\" , filename)\n",
    "        \n",
    "#         if os.path.exists(exisiing_filepath): \n",
    "#             new_filepath = os.path.join(\"data\", folder, \"labels\" , filename )\n",
    "            \n",
    "#             os.replace(exisiing_filepath , new_filepath )"
   ]
  },
  {
   "cell_type": "markdown",
   "metadata": {},
   "source": [
    "`Apply image augmentaiton on images and labels using albumneatations`"
   ]
  },
  {
   "cell_type": "markdown",
   "metadata": {},
   "source": [
    "4.1 Setup Albumentations transfomr pipeline "
   ]
  },
  {
   "cell_type": "code",
   "execution_count": 38,
   "metadata": {},
   "outputs": [],
   "source": [
    "import albumentations as alb"
   ]
  },
  {
   "cell_type": "code",
   "execution_count": 39,
   "metadata": {},
   "outputs": [],
   "source": [
    "# define our augmentation pipelien \n",
    "\n",
    "augmentor = alb.Compose([alb.RandomCrop(width = 450, height = 450), alb.HorizontalFlip(p = 0.5) , alb.RandomBrightnessContrast(p=0.2) , alb.RandomGamma(p = 0.2), alb.RGBShift(p = 0.2 ), alb.VerticalFlip(p = 0.5)], \n",
    "bbox_params= alb.BboxParams(format = \"albumentations\" , label_fields = [\"class_labels\"]))"
   ]
  },
  {
   "cell_type": "markdown",
   "metadata": {},
   "source": [
    "4.2 Load a test image and annotaiton with opencv and json "
   ]
  },
  {
   "cell_type": "code",
   "execution_count": 40,
   "metadata": {},
   "outputs": [
    {
     "data": {
      "text/plain": [
       "(480, 640, 3)"
      ]
     },
     "execution_count": 40,
     "metadata": {},
     "output_type": "execute_result"
    }
   ],
   "source": [
    "img_example = cv2.imread(r\"C:\\Users\\thibe\\OneDrive\\Desktop\\Object Detection\\data\\test\\images\\9a383af5-5b7e-11ed-8987-e070eaca4136.jpg\")\n",
    "img_example.shape"
   ]
  },
  {
   "cell_type": "code",
   "execution_count": 41,
   "metadata": {},
   "outputs": [],
   "source": [
    "with open(r'C:\\Users\\thibe\\OneDrive\\Desktop\\Object Detection\\data\\test\\labels\\9a383af5-5b7e-11ed-8987-e070eaca4136.json' , 'r') as f: \n",
    "    label = json.load(f)"
   ]
  },
  {
   "cell_type": "code",
   "execution_count": 42,
   "metadata": {},
   "outputs": [
    {
     "data": {
      "text/plain": [
       "262.3076923076923"
      ]
     },
     "execution_count": 42,
     "metadata": {},
     "output_type": "execute_result"
    }
   ],
   "source": [
    "label[\"shapes\"][0][\"points\"][0][0]"
   ]
  },
  {
   "cell_type": "markdown",
   "metadata": {},
   "source": [
    "4.3 Extract coordinates and rescale to match imgae resolution "
   ]
  },
  {
   "cell_type": "code",
   "execution_count": 43,
   "metadata": {},
   "outputs": [],
   "source": [
    "coords = [0,0,0,0]\n",
    "coords[0] =label[\"shapes\"][0][\"points\"][0][0]\n",
    "coords[1] =label[\"shapes\"][0][\"points\"][0][1]\n",
    "coords[2]= label[\"shapes\"][0][\"points\"][1][0]\n",
    "coords[3] =label[\"shapes\"][0][\"points\"][1][1]"
   ]
  },
  {
   "cell_type": "code",
   "execution_count": 44,
   "metadata": {},
   "outputs": [
    {
     "data": {
      "text/plain": [
       "[262.3076923076923, 28.205128205128204, 457.69230769230774, 285.64102564102564]"
      ]
     },
     "execution_count": 44,
     "metadata": {},
     "output_type": "execute_result"
    }
   ],
   "source": [
    "coords"
   ]
  },
  {
   "cell_type": "code",
   "execution_count": 45,
   "metadata": {},
   "outputs": [],
   "source": [
    "#normalize the coords \n",
    "coords = list(np.divide(coords , [640,480,640,480]))"
   ]
  },
  {
   "cell_type": "markdown",
   "metadata": {},
   "source": [
    "4.4 Apply Augmentation and view results"
   ]
  },
  {
   "cell_type": "code",
   "execution_count": 46,
   "metadata": {},
   "outputs": [],
   "source": [
    "augmented = augmentor(image = img_example, bboxes = [coords] , class_labels = [\"face\"])"
   ]
  },
  {
   "cell_type": "code",
   "execution_count": 47,
   "metadata": {},
   "outputs": [
    {
     "data": {
      "text/plain": [
       "{'image': array([[[ 68,  44,  38],\n",
       "         [ 63,  39,  33],\n",
       "         [ 58,  37,  30],\n",
       "         ...,\n",
       "         [200, 177, 176],\n",
       "         [200, 177, 176],\n",
       "         [200, 179, 176]],\n",
       " \n",
       "        [[ 62,  39,  30],\n",
       "         [ 57,  37,  27],\n",
       "         [ 57,  36,  29],\n",
       "         ...,\n",
       "         [199, 178, 175],\n",
       "         [200, 177, 176],\n",
       "         [200, 179, 176]],\n",
       " \n",
       "        [[ 55,  33,  22],\n",
       "         [ 55,  35,  24],\n",
       "         [ 58,  38,  28],\n",
       "         ...,\n",
       "         [198, 177, 174],\n",
       "         [199, 178, 175],\n",
       "         [200, 179, 176]],\n",
       " \n",
       "        ...,\n",
       " \n",
       "        [[175, 153, 136],\n",
       "         [175, 152, 137],\n",
       "         [173, 149, 137],\n",
       "         ...,\n",
       "         [122, 120, 114],\n",
       "         [122, 120, 114],\n",
       "         [123, 121, 115]],\n",
       " \n",
       "        [[175, 153, 136],\n",
       "         [175, 152, 137],\n",
       "         [176, 152, 140],\n",
       "         ...,\n",
       "         [122, 122, 116],\n",
       "         [125, 122, 118],\n",
       "         [124, 121, 117]],\n",
       " \n",
       "        [[176, 153, 138],\n",
       "         [175, 151, 139],\n",
       "         [174, 150, 139],\n",
       "         ...,\n",
       "         [125, 123, 117],\n",
       "         [125, 122, 118],\n",
       "         [124, 121, 117]]], dtype=uint8),\n",
       " 'bboxes': [(0.15401709401709396,\n",
       "   0.4141310541310541,\n",
       "   0.5882051282051282,\n",
       "   0.9862108262108262)],\n",
       " 'class_labels': ['face']}"
      ]
     },
     "execution_count": 47,
     "metadata": {},
     "output_type": "execute_result"
    }
   ],
   "source": [
    "augmented"
   ]
  },
  {
   "cell_type": "code",
   "execution_count": 48,
   "metadata": {},
   "outputs": [
    {
     "data": {
      "text/plain": [
       "[(0.15401709401709396,\n",
       "  0.4141310541310541,\n",
       "  0.5882051282051282,\n",
       "  0.9862108262108262)]"
      ]
     },
     "execution_count": 48,
     "metadata": {},
     "output_type": "execute_result"
    }
   ],
   "source": [
    "augmented[\"bboxes\"]"
   ]
  },
  {
   "cell_type": "code",
   "execution_count": 49,
   "metadata": {},
   "outputs": [
    {
     "data": {
      "text/plain": [
       "<matplotlib.image.AxesImage at 0x1f660bc0d00>"
      ]
     },
     "execution_count": 49,
     "metadata": {},
     "output_type": "execute_result"
    },
    {
     "data": {
      "image/png": "[encoded data removed]",
      "text/plain": [
       "<Figure size 432x288 with 1 Axes>"
      ]
     },
     "metadata": {
      "needs_background": "light"
     },
     "output_type": "display_data"
    }
   ],
   "source": [
    "#plot the augmented pictures \n",
    "\n",
    "cv2.rectangle(augmented[\"image\"] , \n",
    "tuple(np.multiply(augmented[\"bboxes\"][0][:2], [450,450]).astype(int)), # top coordinate , rescale , make as an int => pass it as a tuple \n",
    "tuple(np.multiply(augmented[\"bboxes\"][0][2:],[450,450]).astype(int)), #bottom coordiante , rescale , make as an int => pass it as a tuple \n",
    "(255,0,0), 2 )# BGR formate and thinkness of rectangle \n",
    "\n",
    "plt.imshow(augmented[\"image\"])"
   ]
  },
  {
   "cell_type": "markdown",
   "metadata": {},
   "source": [
    "`Build and Run augmentation pipeline`"
   ]
  },
  {
   "cell_type": "markdown",
   "metadata": {},
   "source": [
    "6.1 Build label loading function "
   ]
  },
  {
   "cell_type": "code",
   "execution_count": 52,
   "metadata": {},
   "outputs": [],
   "source": [
    "for segment in [\"train\" , \"test\" , \"val\" ]:\n",
    "    for image in os.listdir (os.path.join('data' , segment , \"images\")): \n",
    "        img = cv2.imread(os.path.join(\"data\", segment , \"images\" , image)) \n",
    "\n",
    "\n",
    "        coords = [0,0,0.00001,0.00001] #Assign these coordnnates for images that do not have our face in it\n",
    "\n",
    "        label_path = (os.path.join(\"data\", segment, \"labels\" , image.split(\".\")[0] + \".json\"))\n",
    "        if os.path.exists(label_path): \n",
    "            with open ( label_path, \"r\") as f : \n",
    "                label = json.load(f)\n",
    "        \n",
    "            coords[0] = label[\"shapes\"][0][\"points\"][0][0]\n",
    "            coords[1] = label[\"shapes\"][0][\"points\"][0][1]\n",
    "            coords[2] = label[\"shapes\"][0][\"points\"][1][0]\n",
    "            coords[3] = label[\"shapes\"][0][\"points\"][1][1]\n",
    "\n",
    "            coords= list(np.divide(coords, [640,480,640,480]))# normalize the coordinates\n",
    "\n",
    "            try: \n",
    "                for x in range(60): # We will create 60 augmented images for 1 image \n",
    "                    augmented  = augmentor(image = img , bboxes = [coords] , class_labels = [\"face\"])\n",
    "                    cv2.imwrite(os.path.join(\"aug_data\" , segment ,\"images\" , f'{image.split(\".\")[0]}.{x}.jpg') , augmented[\"image\"]) # wirte the augmented images onot the existing images\n",
    "\n",
    "                    annotations = {}\n",
    "                    annotations[\"image\"] = image\n",
    "\n",
    "                    if os.path.exists(label_path): \n",
    "                        if augmented[\"bboxes\"] == 0 : # if there is no box in an image\n",
    "                            annotations[\"bbox\"] = [0,0,0,0] # box \n",
    "                            annotations[\"class\"] = 0 # 0 class means that there is not face in the image\n",
    "                        else: \n",
    "                            annotations['bbox'] = augmented[\"bboxes\"] # if there is a face \n",
    "                            annotations['class'] = 1 \n",
    "                    else: \n",
    "                        annotations[\"bbox\"] = [0,0,0,0]\n",
    "                        annotations[\"class\"] = 0\n",
    "\n",
    "                    with open(os.path.join(\"aug_data\" , segment , \"labels\" ,  f'{image.split(\".\")[0]}.{x}.json') , \"w\") as f: \n",
    "                        json.dump(annotations , f )\n",
    "\n",
    "            except Exception as e:  \n",
    "                print(e)        \n"
   ]
  },
  {
   "cell_type": "code",
   "execution_count": 53,
   "metadata": {},
   "outputs": [],
   "source": [
    " \n",
    "train_images = tf.data.Dataset.list_files(glob.glob(os.path.join(r\"aug_data\\train\\images\\*.jpg\")) ,shuffle=False)\n",
    "train_images = train_images.map(load_images)\n",
    "train_images = train_images.map( lambda x: tf.image.resize(x, (120,120)))\n",
    "train_images = train_images.map(lambda x: x/255)\n"
   ]
  },
  {
   "cell_type": "code",
   "execution_count": 54,
   "metadata": {},
   "outputs": [],
   "source": [
    "\n",
    "test_images = tf.data.Dataset.list_files(glob.glob(os.path.join(r\"aug_data\\test\\images\\*.jpg\")) ,shuffle=False)\n",
    "test_images = test_images.map(load_images)\n",
    "test_images = test_images.map( lambda x: tf.image.resize(x, (120,120)))\n",
    "test_images = test_images.map(lambda x: x/255)\n",
    "\n"
   ]
  },
  {
   "cell_type": "code",
   "execution_count": 55,
   "metadata": {},
   "outputs": [],
   "source": [
    "val_images = tf.data.Dataset.list_files(glob.glob(os.path.join(r\"aug_data\\val\\images\\*.jpg\")) ,shuffle=False)\n",
    "val_images = val_images.map(load_images)\n",
    "val_images = val_images.map( lambda x: tf.image.resize(x, (120,120)))\n",
    "val_images = val_images.map(lambda x: x/255)"
   ]
  },
  {
   "cell_type": "code",
   "execution_count": 56,
   "metadata": {},
   "outputs": [
    {
     "data": {
      "text/plain": [
       "(120, 120, 3)"
      ]
     },
     "execution_count": 56,
     "metadata": {},
     "output_type": "execute_result"
    }
   ],
   "source": [
    "train_images.as_numpy_iterator().next().shape"
   ]
  },
  {
   "cell_type": "markdown",
   "metadata": {},
   "source": [
    "6.2 Load labels to tensorflow dataset"
   ]
  },
  {
   "cell_type": "code",
   "execution_count": 57,
   "metadata": {},
   "outputs": [],
   "source": [
    "def load_labels(label_path): \n",
    "    with open(label_path.numpy() , 'r', encoding = \"utf-8\") as f: \n",
    "        label = json.load(f)\n",
    "    \n",
    "    return [label[\"class\"]] , label[\"bbox\"]"
   ]
  },
  {
   "cell_type": "code",
   "execution_count": 243,
   "metadata": {},
   "outputs": [],
   "source": [
    "# Put labels into tf.data.Dataset\n",
    "train_labels = tf.data.Dataset.list_files('aug_data\\\\train\\\\labels\\\\*.json', shuffle=False)\n",
    "train_labels = train_labels.map(lambda x: tf.py_function(load_labels, [x], [tf.uint8, tf.float16]))"
   ]
  },
  {
   "cell_type": "code",
   "execution_count": 244,
   "metadata": {},
   "outputs": [],
   "source": [
    "test_labels = tf.data.Dataset.list_files('aug_data\\\\test\\\\labels\\\\*.json', shuffle=False)\n",
    "test_labels = test_labels.map(lambda x: tf.py_function(load_labels, [x], [tf.uint8, tf.float16]))"
   ]
  },
  {
   "cell_type": "code",
   "execution_count": 245,
   "metadata": {},
   "outputs": [],
   "source": [
    "val_labels = tf.data.Dataset.list_files('aug_data\\\\val\\\\labels\\\\*.json', shuffle=False)\n",
    "val_labels = val_labels.map(lambda x: tf.py_function(load_labels, [x], [tf.uint8, tf.float16]))"
   ]
  },
  {
   "cell_type": "code",
   "execution_count": 246,
   "metadata": {},
   "outputs": [
    {
     "data": {
      "text/plain": [
       "(array([1], dtype=uint8),\n",
       " array([[0.291 , 0.329 , 0.6377, 0.7725]], dtype=float16))"
      ]
     },
     "execution_count": 246,
     "metadata": {},
     "output_type": "execute_result"
    }
   ],
   "source": [
    "train_labels.as_numpy_iterator().next()"
   ]
  },
  {
   "cell_type": "markdown",
   "metadata": {},
   "source": [
    "`Combine Lable and Image samples`"
   ]
  },
  {
   "cell_type": "markdown",
   "metadata": {},
   "source": [
    "7.1 check partion lenghts "
   ]
  },
  {
   "cell_type": "code",
   "execution_count": 250,
   "metadata": {},
   "outputs": [
    {
     "data": {
      "text/plain": [
       "(4260, 4260, 960, 960, 1020, 1020)"
      ]
     },
     "execution_count": 250,
     "metadata": {},
     "output_type": "execute_result"
    }
   ],
   "source": [
    "len(train_images) , len(train_labels) , len(test_images) , len(test_labels) , len(val_images) , len(val_labels)"
   ]
  },
  {
   "cell_type": "markdown",
   "metadata": {},
   "source": [
    "7.2 Create final dataset (images/lables)"
   ]
  },
  {
   "cell_type": "code",
   "execution_count": 251,
   "metadata": {},
   "outputs": [],
   "source": [
    "train = tf.data.Dataset.zip((train_images , train_labels)) # combining the images and labels\n",
    "train= train.shuffle(5000)\n",
    "train = train.batch(8)\n",
    "train = train.prefetch(4) #shuffle the dataset, then have 8 images and labels per patch, then prefetch 4 images and labels to avoid bottleneck"
   ]
  },
  {
   "cell_type": "code",
   "execution_count": 252,
   "metadata": {},
   "outputs": [],
   "source": [
    "test = tf.data.Dataset.zip((test_images , test_labels))\n",
    "test = test.shuffle(1000)\n",
    "test = test.batch(8)\n",
    "test = test.prefetch(4)"
   ]
  },
  {
   "cell_type": "code",
   "execution_count": 253,
   "metadata": {},
   "outputs": [],
   "source": [
    "val = tf.data.Dataset.zip((val_images , val_labels))\n",
    "val = val.shuffle(1300)\n",
    "val= val.batch(8)\n",
    "val = val.prefetch(4)"
   ]
  },
  {
   "cell_type": "code",
   "execution_count": 66,
   "metadata": {},
   "outputs": [
    {
     "data": {
      "text/plain": [
       "<PrefetchDataset element_spec=(TensorSpec(shape=(None, 120, 120, None), dtype=tf.float32, name=None), (TensorSpec(shape=<unknown>, dtype=tf.uint8, name=None), TensorSpec(shape=<unknown>, dtype=tf.float16, name=None)))>"
      ]
     },
     "execution_count": 66,
     "metadata": {},
     "output_type": "execute_result"
    }
   ],
   "source": [
    "test"
   ]
  },
  {
   "cell_type": "code",
   "execution_count": 67,
   "metadata": {},
   "outputs": [
    {
     "data": {
      "text/plain": [
       "<PrefetchDataset element_spec=(TensorSpec(shape=(None, 120, 120, None), dtype=tf.float32, name=None), (TensorSpec(shape=<unknown>, dtype=tf.uint8, name=None), TensorSpec(shape=<unknown>, dtype=tf.float16, name=None)))>"
      ]
     },
     "execution_count": 67,
     "metadata": {},
     "output_type": "execute_result"
    }
   ],
   "source": [
    "train"
   ]
  },
  {
   "cell_type": "code",
   "execution_count": 254,
   "metadata": {},
   "outputs": [
    {
     "data": {
      "text/plain": [
       "(array([[1],\n",
       "        [1],\n",
       "        [1],\n",
       "        [1],\n",
       "        [1],\n",
       "        [1],\n",
       "        [1],\n",
       "        [1]], dtype=uint8),\n",
       " array([[[0.612  , 0.2976 , 1.     , 0.8438 ]],\n",
       " \n",
       "        [[0.9897 , 0.2402 , 1.     , 0.5093 ]],\n",
       " \n",
       "        [[0.2388 , 0.07983, 0.7104 , 0.7485 ]],\n",
       " \n",
       "        [[0.5107 , 0.3333 , 0.7173 , 0.626  ]],\n",
       " \n",
       "        [[0.4253 , 0.26   , 0.675  , 0.544  ]],\n",
       " \n",
       "        [[0.     , 0.2908 , 0.3884 , 0.985  ]],\n",
       " \n",
       "        [[0.504  , 0.562  , 0.784  , 0.944  ]],\n",
       " \n",
       "        [[0.4246 , 0.1528 , 0.823  , 0.7056 ]]], dtype=float16))"
      ]
     },
     "execution_count": 254,
     "metadata": {},
     "output_type": "execute_result"
    }
   ],
   "source": [
    "train.as_numpy_iterator().next()[1]"
   ]
  },
  {
   "cell_type": "markdown",
   "metadata": {},
   "source": [
    "7.3 View images and annotationsm"
   ]
  },
  {
   "cell_type": "code",
   "execution_count": 255,
   "metadata": {},
   "outputs": [],
   "source": [
    "data_smaples = train.as_numpy_iterator()"
   ]
  },
  {
   "cell_type": "code",
   "execution_count": 256,
   "metadata": {},
   "outputs": [],
   "source": [
    "res = data_smaples.next()"
   ]
  },
  {
   "cell_type": "code",
   "execution_count": null,
   "metadata": {},
   "outputs": [],
   "source": [
    "fig, ax = plt.subplots(ncols=4, figsize=(20,20))\n",
    "for idx in range(4): \n",
    "    sample_image = res[0][idx]\n",
    "    sample_coords = res[1][1][idx]\n",
    "    \n",
    "    cv2.rectangle(sample_image, \n",
    "                  tuple(np.multiply(sample_coords[:2], [120,120]).astype(int)),\n",
    "                  tuple(np.multiply(sample_coords[2:], [120,120]).astype(int)), \n",
    "                        (255,0,0), 2)\n",
    "\n",
    "    ax[idx].imshow(sample_image)"
   ]
  },
  {
   "cell_type": "markdown",
   "metadata": {},
   "source": [
    "`Build deep learning using functional API`"
   ]
  },
  {
   "cell_type": "markdown",
   "metadata": {},
   "source": [
    "8.1 Import Layers and Base Network "
   ]
  },
  {
   "cell_type": "code",
   "execution_count": 72,
   "metadata": {},
   "outputs": [],
   "source": [
    "from tensorflow.keras import layers  , Model\n",
    "from tensorflow.keras.layers import   GlobalMaxPool2D , Conv2D  , Dense ,Input\n",
    "from tensorflow.keras.applications import VGG16\n"
   ]
  },
  {
   "cell_type": "markdown",
   "metadata": {},
   "source": [
    "8.2 Download VGG16"
   ]
  },
  {
   "cell_type": "code",
   "execution_count": 73,
   "metadata": {},
   "outputs": [],
   "source": [
    "vgg = VGG16(include_top= False)"
   ]
  },
  {
   "cell_type": "code",
   "execution_count": 74,
   "metadata": {},
   "outputs": [
    {
     "name": "stdout",
     "output_type": "stream",
     "text": [
      "Model: \"vgg16\"\n",
      "_________________________________________________________________\n",
      " Layer (type)                Output Shape              Param #   \n",
      "=================================================================\n",
      " input_1 (InputLayer)        [(None, None, None, 3)]   0         \n",
      "                                                                 \n",
      " block1_conv1 (Conv2D)       (None, None, None, 64)    1792      \n",
      "                                                                 \n",
      " block1_conv2 (Conv2D)       (None, None, None, 64)    36928     \n",
      "                                                                 \n",
      " block1_pool (MaxPooling2D)  (None, None, None, 64)    0         \n",
      "                                                                 \n",
      " block2_conv1 (Conv2D)       (None, None, None, 128)   73856     \n",
      "                                                                 \n",
      " block2_conv2 (Conv2D)       (None, None, None, 128)   147584    \n",
      "                                                                 \n",
      " block2_pool (MaxPooling2D)  (None, None, None, 128)   0         \n",
      "                                                                 \n",
      " block3_conv1 (Conv2D)       (None, None, None, 256)   295168    \n",
      "                                                                 \n",
      " block3_conv2 (Conv2D)       (None, None, None, 256)   590080    \n",
      "                                                                 \n",
      " block3_conv3 (Conv2D)       (None, None, None, 256)   590080    \n",
      "                                                                 \n",
      " block3_pool (MaxPooling2D)  (None, None, None, 256)   0         \n",
      "                                                                 \n",
      " block4_conv1 (Conv2D)       (None, None, None, 512)   1180160   \n",
      "                                                                 \n",
      " block4_conv2 (Conv2D)       (None, None, None, 512)   2359808   \n",
      "                                                                 \n",
      " block4_conv3 (Conv2D)       (None, None, None, 512)   2359808   \n",
      "                                                                 \n",
      " block4_pool (MaxPooling2D)  (None, None, None, 512)   0         \n",
      "                                                                 \n",
      " block5_conv1 (Conv2D)       (None, None, None, 512)   2359808   \n",
      "                                                                 \n",
      " block5_conv2 (Conv2D)       (None, None, None, 512)   2359808   \n",
      "                                                                 \n",
      " block5_conv3 (Conv2D)       (None, None, None, 512)   2359808   \n",
      "                                                                 \n",
      " block5_pool (MaxPooling2D)  (None, None, None, 512)   0         \n",
      "                                                                 \n",
      "=================================================================\n",
      "Total params: 14,714,688\n",
      "Trainable params: 14,714,688\n",
      "Non-trainable params: 0\n",
      "_________________________________________________________________\n"
     ]
    }
   ],
   "source": [
    "vgg.summary()"
   ]
  },
  {
   "cell_type": "markdown",
   "metadata": {},
   "source": [
    "8.3 Build instance of Network "
   ]
  },
  {
   "cell_type": "code",
   "execution_count": 75,
   "metadata": {},
   "outputs": [],
   "source": [
    "def build_model():\n",
    "    input_layer = Input(shape= ( 120,120,3))\n",
    "    vgg = VGG16(include_top= False)(input_layer)\n",
    "\n",
    "    f1 = GlobalMaxPool2D()(vgg)\n",
    "    class_1 = Dense(2048  , activation = \"relu\")(f1)\n",
    "    class_2 = Dense(1, activation = \"sigmoid\")(class_1)\n",
    "\n",
    "    f2 = GlobalMaxPool2D()(vgg)\n",
    "    regress_1 = Dense(  2048 , activation = \"relu\")(f2)\n",
    "    regress_2 = Dense(4, activation = \"sigmoid\")(regress_1)\n",
    "\n",
    "    face_tracker = Model(inputs = input_layer , outputs = [class_2 , regress_2])\n",
    "\n",
    "    return face_tracker\n",
    "\n",
    "    "
   ]
  },
  {
   "cell_type": "code",
   "execution_count": 76,
   "metadata": {},
   "outputs": [
    {
     "data": {
      "text/plain": [
       "(array([[1],\n",
       "        [1],\n",
       "        [1],\n",
       "        [1],\n",
       "        [1],\n",
       "        [1],\n",
       "        [1],\n",
       "        [1]], dtype=uint8),\n",
       " array([[[0.04514 , 0.5386  , 0.3972  , 0.9453  ]],\n",
       " \n",
       "        [[0.3113  , 0.03836 , 0.592   , 0.4202  ]],\n",
       " \n",
       "        [[0.3887  , 0.1681  , 0.849   , 0.7925  ]],\n",
       " \n",
       "        [[0.4048  , 0.2812  , 0.8457  , 0.7896  ]],\n",
       " \n",
       "        [[0.295   , 0.3489  , 0.5317  , 0.646   ]],\n",
       " \n",
       "        [[0.      , 0.4736  , 0.193   , 0.8     ]],\n",
       " \n",
       "        [[0.003077, 0.2462  , 0.524   , 0.9404  ]],\n",
       " \n",
       "        [[0.1681  , 0.2478  , 0.3755  , 0.503   ]]], dtype=float16))"
      ]
     },
     "execution_count": 76,
     "metadata": {},
     "output_type": "execute_result"
    }
   ],
   "source": [
    "train.as_numpy_iterator().next()[1]"
   ]
  },
  {
   "cell_type": "code",
   "execution_count": 77,
   "metadata": {},
   "outputs": [
    {
     "name": "stdout",
     "output_type": "stream",
     "text": [
      "Model: \"model\"\n",
      "__________________________________________________________________________________________________\n",
      " Layer (type)                   Output Shape         Param #     Connected to                     \n",
      "==================================================================================================\n",
      " input_2 (InputLayer)           [(None, 120, 120, 3  0           []                               \n",
      "                                )]                                                                \n",
      "                                                                                                  \n",
      " vgg16 (Functional)             (None, None, None,   14714688    ['input_2[0][0]']                \n",
      "                                512)                                                              \n",
      "                                                                                                  \n",
      " global_max_pooling2d (GlobalMa  (None, 512)         0           ['vgg16[0][0]']                  \n",
      " xPooling2D)                                                                                      \n",
      "                                                                                                  \n",
      " global_max_pooling2d_1 (Global  (None, 512)         0           ['vgg16[0][0]']                  \n",
      " MaxPooling2D)                                                                                    \n",
      "                                                                                                  \n",
      " dense (Dense)                  (None, 2048)         1050624     ['global_max_pooling2d[0][0]']   \n",
      "                                                                                                  \n",
      " dense_2 (Dense)                (None, 2048)         1050624     ['global_max_pooling2d_1[0][0]'] \n",
      "                                                                                                  \n",
      " dense_1 (Dense)                (None, 1)            2049        ['dense[0][0]']                  \n",
      "                                                                                                  \n",
      " dense_3 (Dense)                (None, 4)            8196        ['dense_2[0][0]']                \n",
      "                                                                                                  \n",
      "==================================================================================================\n",
      "Total params: 16,826,181\n",
      "Trainable params: 16,826,181\n",
      "Non-trainable params: 0\n",
      "__________________________________________________________________________________________________\n"
     ]
    }
   ],
   "source": [
    "facetracker= build_model()\n",
    "facetracker.summary()"
   ]
  },
  {
   "cell_type": "markdown",
   "metadata": {},
   "source": [
    "8.4 Test out Neural Network "
   ]
  },
  {
   "cell_type": "code",
   "execution_count": 78,
   "metadata": {},
   "outputs": [],
   "source": [
    "X, y = train.as_numpy_iterator().next()"
   ]
  },
  {
   "cell_type": "code",
   "execution_count": 79,
   "metadata": {},
   "outputs": [
    {
     "data": {
      "text/plain": [
       "(8, 120, 120, 3)"
      ]
     },
     "execution_count": 79,
     "metadata": {},
     "output_type": "execute_result"
    }
   ],
   "source": [
    "X.shape "
   ]
  },
  {
   "cell_type": "code",
   "execution_count": 80,
   "metadata": {},
   "outputs": [
    {
     "name": "stdout",
     "output_type": "stream",
     "text": [
      "1/1 [==============================] - 21s 21s/step\n"
     ]
    }
   ],
   "source": [
    "classes, coords = facetracker.predict(X)"
   ]
  },
  {
   "cell_type": "code",
   "execution_count": 81,
   "metadata": {},
   "outputs": [
    {
     "data": {
      "text/plain": [
       "array([[0.417784  , 0.5547115 , 0.37661982, 0.38660592],\n",
       "       [0.46186092, 0.51933163, 0.34222215, 0.43623948],\n",
       "       [0.48749018, 0.5510843 , 0.32857704, 0.35211673],\n",
       "       [0.48384392, 0.5405715 , 0.3687289 , 0.33094862],\n",
       "       [0.49134296, 0.5013459 , 0.39659795, 0.4704862 ],\n",
       "       [0.5503356 , 0.6037309 , 0.39282897, 0.3716161 ],\n",
       "       [0.49257267, 0.5066355 , 0.37347144, 0.41360354],\n",
       "       [0.5111381 , 0.5189139 , 0.42597187, 0.39964357]], dtype=float32)"
      ]
     },
     "execution_count": 81,
     "metadata": {},
     "output_type": "execute_result"
    }
   ],
   "source": [
    "coords[:]"
   ]
  },
  {
   "cell_type": "code",
   "execution_count": 183,
   "metadata": {},
   "outputs": [
    {
     "data": {
      "text/plain": [
       "array([[[0.3936 , 0.3752 , 0.7275 , 0.8276 ]],\n",
       "\n",
       "       [[0.592  , 0.339  , 0.87   , 0.6333 ]],\n",
       "\n",
       "       [[0.6533 , 0.10236, 0.9526 , 0.4636 ]],\n",
       "\n",
       "       [[0.     , 0.4575 , 0.10345, 0.7266 ]],\n",
       "\n",
       "       [[0.452  , 0.2556 , 0.7017 , 0.5396 ]],\n",
       "\n",
       "       [[0.     , 0.2798 , 0.1504 , 0.731  ]],\n",
       "\n",
       "       [[0.1533 , 0.3577 , 0.4084 , 0.6357 ]],\n",
       "\n",
       "       [[0.629  , 0.2788 , 0.8364 , 0.534  ]]], dtype=float16)"
      ]
     },
     "execution_count": 183,
     "metadata": {},
     "output_type": "execute_result"
    }
   ],
   "source": [
    "y[1]"
   ]
  },
  {
   "cell_type": "code",
   "execution_count": 181,
   "metadata": {},
   "outputs": [
    {
     "data": {
      "text/plain": [
       "array([[0.5178742 ],\n",
       "       [0.5395862 ],\n",
       "       [0.4898511 ],\n",
       "       [0.5035783 ],\n",
       "       [0.44108012],\n",
       "       [0.46883637],\n",
       "       [0.46669555],\n",
       "       [0.5011308 ]], dtype=float32)"
      ]
     },
     "execution_count": 181,
     "metadata": {},
     "output_type": "execute_result"
    }
   ],
   "source": [
    "classes"
   ]
  },
  {
   "cell_type": "code",
   "execution_count": 82,
   "metadata": {},
   "outputs": [
    {
     "data": {
      "text/plain": [
       "(array([[0.5178742 ],\n",
       "        [0.5395862 ],\n",
       "        [0.4898511 ],\n",
       "        [0.5035783 ],\n",
       "        [0.44108012],\n",
       "        [0.46883637],\n",
       "        [0.46669555],\n",
       "        [0.5011308 ]], dtype=float32),\n",
       " array([[0.417784  , 0.5547115 , 0.37661982, 0.38660592],\n",
       "        [0.46186092, 0.51933163, 0.34222215, 0.43623948],\n",
       "        [0.48749018, 0.5510843 , 0.32857704, 0.35211673],\n",
       "        [0.48384392, 0.5405715 , 0.3687289 , 0.33094862],\n",
       "        [0.49134296, 0.5013459 , 0.39659795, 0.4704862 ],\n",
       "        [0.5503356 , 0.6037309 , 0.39282897, 0.3716161 ],\n",
       "        [0.49257267, 0.5066355 , 0.37347144, 0.41360354],\n",
       "        [0.5111381 , 0.5189139 , 0.42597187, 0.39964357]], dtype=float32))"
      ]
     },
     "execution_count": 82,
     "metadata": {},
     "output_type": "execute_result"
    }
   ],
   "source": [
    "classes , coords"
   ]
  },
  {
   "cell_type": "markdown",
   "metadata": {},
   "source": [
    "`Define losses and otpimizers`"
   ]
  },
  {
   "cell_type": "markdown",
   "metadata": {},
   "source": [
    "9.1 Define optimizer and LR "
   ]
  },
  {
   "cell_type": "code",
   "execution_count": 83,
   "metadata": {},
   "outputs": [
    {
     "data": {
      "text/plain": [
       "533"
      ]
     },
     "execution_count": 83,
     "metadata": {},
     "output_type": "execute_result"
    }
   ],
   "source": [
    "len(train)"
   ]
  },
  {
   "cell_type": "code",
   "execution_count": 84,
   "metadata": {},
   "outputs": [],
   "source": [
    "#Learning rate scheduler\n",
    "batches_per_epoch = len(train) \n",
    "lr_decay = (1./0.75 -1)/batches_per_epoch"
   ]
  },
  {
   "cell_type": "code",
   "execution_count": 126,
   "metadata": {},
   "outputs": [
    {
     "name": "stderr",
     "output_type": "stream",
     "text": [
      "c:\\Users\\thibe\\anaconda3\\lib\\site-packages\\keras\\optimizers\\optimizer_v2\\adam.py:110: UserWarning: The `lr` argument is deprecated, use `learning_rate` instead.\n",
      "  super(Adam, self).__init__(name, **kwargs)\n"
     ]
    }
   ],
   "source": [
    "opt = tf.keras.optimizers.Adam(lr = 0.0001 , decay = lr_decay)"
   ]
  },
  {
   "cell_type": "markdown",
   "metadata": {},
   "source": [
    "9.2 Create Localization Loss and Classification Loss "
   ]
  },
  {
   "cell_type": "code",
   "execution_count": 86,
   "metadata": {},
   "outputs": [],
   "source": [
    "def localization_loss( y_true , yhat): \n",
    "\n",
    "    delta_coord = tf.reduce_sum(tf.square(y_true[:,:2] - yhat[:,:2]))\n",
    "\n",
    "    h_true = y_true[:,3] - y_true[:,1]\n",
    "    w_true = y_true[:,2] - y_true[:,0]\n",
    "\n",
    "    h_pred = yhat[:,3] - yhat[:,1]\n",
    "    w_pred = yhat[:,2] - yhat[:,0]\n",
    "\n",
    "    delta_size = tf.reduce_sum(tf.square(w_true - w_pred) + tf.square( h_true - h_pred))\n",
    "    return delta_coord + delta_size "
   ]
  },
  {
   "cell_type": "code",
   "execution_count": 87,
   "metadata": {},
   "outputs": [],
   "source": [
    "classloss = tf.keras.losses.BinaryCrossentropy()\n",
    "regressloss = localization_loss"
   ]
  },
  {
   "cell_type": "markdown",
   "metadata": {},
   "source": [
    "9.3 Test out Loss metrics"
   ]
  },
  {
   "cell_type": "code",
   "execution_count": 88,
   "metadata": {},
   "outputs": [
    {
     "data": {
      "text/plain": [
       "4.14"
      ]
     },
     "execution_count": 88,
     "metadata": {},
     "output_type": "execute_result"
    }
   ],
   "source": [
    "localization_loss(tf.squeeze(y[1]), coords).numpy()"
   ]
  },
  {
   "cell_type": "code",
   "execution_count": 89,
   "metadata": {},
   "outputs": [
    {
     "data": {
      "text/plain": [
       "0.71295506"
      ]
     },
     "execution_count": 89,
     "metadata": {},
     "output_type": "execute_result"
    }
   ],
   "source": [
    "classloss(y[0] , classes).numpy()"
   ]
  },
  {
   "cell_type": "code",
   "execution_count": 187,
   "metadata": {},
   "outputs": [
    {
     "data": {
      "text/plain": [
       "4.14"
      ]
     },
     "execution_count": 187,
     "metadata": {},
     "output_type": "execute_result"
    }
   ],
   "source": [
    "regressloss(tf.squeeze(y[1]) , coords).numpy()"
   ]
  },
  {
   "cell_type": "markdown",
   "metadata": {},
   "source": [
    "`Train Neural Network`"
   ]
  },
  {
   "cell_type": "markdown",
   "metadata": {},
   "source": [
    "10.1 Create custom model class "
   ]
  },
  {
   "cell_type": "code",
   "execution_count": 136,
   "metadata": {},
   "outputs": [
    {
     "data": {
      "text/plain": [
       "<tf.Tensor: shape=(), dtype=float32, numpy=4.1410165>"
      ]
     },
     "execution_count": 136,
     "metadata": {},
     "output_type": "execute_result"
    }
   ],
   "source": [
    "localization_loss(tf.cast(tf.squeeze(y[1]), tf.float32), coords)"
   ]
  },
  {
   "cell_type": "code",
   "execution_count": null,
   "metadata": {},
   "outputs": [],
   "source": [
    "class FaceTracker(Model): \n",
    "    def __init__(self, facetracker,  **kwargs): \n",
    "        super().__init__(**kwargs)\n",
    "        self.model = facetracker\n",
    "\n",
    "    def compile(self, opt, classloss, localizationloss, **kwargs):\n",
    "        super().compile(**kwargs)\n",
    "        self.closs = classloss\n",
    "        self.lloss = localizationloss\n",
    "        self.opt = opt\n",
    "    \n",
    "    def train_step(self, batch, **kwargs): \n",
    "        \n",
    "        X, y = batch\n",
    "        \n",
    "        with tf.GradientTape() as tape: \n",
    "            classes, coords = self.model(X, training=True)\n",
    "            \n",
    "            batch_classloss = self.closs(y[0], classes)\n",
    "            batch_localizationloss = self.lloss((tf.cast(tf.squeeze(y[1]), tf.float32)), coords)\n",
    "            \n",
    "            total_loss = batch_localizationloss+0.5*batch_classloss\n",
    "            \n",
    "            grad = tape.gradient(total_loss, self.model.trainable_variables)\n",
    "        \n",
    "        opt.apply_gradients(zip(grad, self.model.trainable_variables))\n",
    "        \n",
    "        return {\"total_loss\":total_loss, \"class_loss\":batch_classloss, \"regress_loss\":batch_localizationloss}\n",
    "    \n",
    "    def test_step(self, batch, **kwargs): \n",
    "        X, y = batch\n",
    "        \n",
    "        classes, coords = self.model(X, training=False)\n",
    "        \n",
    "        batch_classloss = self.closs(y[0], classes)\n",
    "        batch_localizationloss = self.lloss((tf.cast(tf.squeeze(y[1]), tf.float32)), coords)\n",
    "        total_loss = batch_localizationloss+0.5*batch_classloss\n",
    "        \n",
    "        return {\"total_loss\":total_loss, \"class_loss\":batch_classloss, \"regress_loss\":batch_localizationloss}\n",
    "        \n",
    "    def call(self, X, **kwargs): \n",
    "        return self.model(X, **kwargs)\n",
    "\n",
    "model_0 = FaceTracker(facetracker)\n",
    "model_0.compile(opt , classloss , regressloss)\n",
    "hist = model_0.fit(train.take(1000) , epochs = 40 , validation_data = val )#, callbacks = [tensorboard_callback])"
   ]
  },
  {
   "cell_type": "code",
   "execution_count": 193,
   "metadata": {},
   "outputs": [],
   "source": [
    "model_0.compile(opt , classloss , regressloss)"
   ]
  },
  {
   "cell_type": "markdown",
   "metadata": {},
   "source": [
    "10.2 Train"
   ]
  },
  {
   "cell_type": "code",
   "execution_count": 177,
   "metadata": {},
   "outputs": [
    {
     "data": {
      "text/plain": [
       "'c:\\\\Users\\\\thibe\\\\OneDrive\\\\Desktop\\\\Object Detection\\\\logs'"
      ]
     },
     "execution_count": 177,
     "metadata": {},
     "output_type": "execute_result"
    }
   ],
   "source": [
    "os.getcwd() +\"\\logs\""
   ]
  },
  {
   "cell_type": "code",
   "execution_count": 178,
   "metadata": {},
   "outputs": [],
   "source": [
    "logdir = os.getcwd() +\"\\logs\""
   ]
  },
  {
   "cell_type": "code",
   "execution_count": 194,
   "metadata": {},
   "outputs": [],
   "source": [
    "tensorboard_callback = tf.keras.callbacks.TensorBoard(log_dir = logdir)"
   ]
  },
  {
   "cell_type": "code",
   "execution_count": null,
   "metadata": {},
   "outputs": [],
   "source": [
    "hist = model_0.fit(train.take(1000) , epochs = 40 , validation_data = val )#, callbacks = [tensorboard_callback])"
   ]
  },
  {
   "cell_type": "code",
   "execution_count": 224,
   "metadata": {},
   "outputs": [],
   "source": [
    "def localization_loss(y_true, yhat):            \n",
    "    delta_coord = tf.reduce_sum(tf.square(y_true[:,:2] - yhat[:,:2]))\n",
    "                  \n",
    "    h_true = y_true[:,3] - y_true[:,1] \n",
    "    w_true = y_true[:,2] - y_true[:,0] \n",
    "\n",
    "    h_pred = yhat[:,3] - yhat[:,1] \n",
    "    w_pred = yhat[:,2] - yhat[:,0] \n",
    "    \n",
    "    delta_size = tf.reduce_sum(tf.square(w_true - w_pred) + tf.square(h_true-h_pred))\n",
    "    \n",
    "    return delta_coord + delta_size"
   ]
  },
  {
   "cell_type": "code",
   "execution_count": 219,
   "metadata": {},
   "outputs": [],
   "source": [
    "test_1 = tf.constant(y[1].shape) \n",
    "test_2 = tf.expand_dims(coords , axis = 1).shape \n",
    "test_2"
   ]
  },
  {
   "cell_type": "code",
   "execution_count": null,
   "metadata": {},
   "outputs": [],
   "source": [
    "localization_loss(test_1 , test_2)"
   ]
  },
  {
   "cell_type": "code",
   "execution_count": 239,
   "metadata": {},
   "outputs": [],
   "source": [
    "test_4 = tf.squeeze(y[1])"
   ]
  },
  {
   "cell_type": "code",
   "execution_count": 237,
   "metadata": {},
   "outputs": [
    {
     "data": {
      "text/plain": [
       "<tf.Tensor: shape=(), dtype=float16, numpy=4.14>"
      ]
     },
     "execution_count": 237,
     "metadata": {},
     "output_type": "execute_result"
    }
   ],
   "source": [
    "localization_loss(test_4  , coords )"
   ]
  },
  {
   "cell_type": "code",
   "execution_count": 208,
   "metadata": {},
   "outputs": [
    {
     "data": {
      "text/plain": [
       "(8, 1)"
      ]
     },
     "execution_count": 208,
     "metadata": {},
     "output_type": "execute_result"
    }
   ],
   "source": [
    "y[0].shape"
   ]
  },
  {
   "cell_type": "code",
   "execution_count": 204,
   "metadata": {},
   "outputs": [
    {
     "data": {
      "text/plain": [
       "(8, 120, 120, 3)"
      ]
     },
     "execution_count": 204,
     "metadata": {},
     "output_type": "execute_result"
    }
   ],
   "source": [
    "X.shape"
   ]
  },
  {
   "cell_type": "code",
   "execution_count": 205,
   "metadata": {},
   "outputs": [
    {
     "data": {
      "text/plain": [
       "(array([[1],\n",
       "        [1],\n",
       "        [1],\n",
       "        [1],\n",
       "        [1],\n",
       "        [1],\n",
       "        [1],\n",
       "        [1]], dtype=uint8),\n",
       " array([[[0.3936 , 0.3752 , 0.7275 , 0.8276 ]],\n",
       " \n",
       "        [[0.592  , 0.339  , 0.87   , 0.6333 ]],\n",
       " \n",
       "        [[0.6533 , 0.10236, 0.9526 , 0.4636 ]],\n",
       " \n",
       "        [[0.     , 0.4575 , 0.10345, 0.7266 ]],\n",
       " \n",
       "        [[0.452  , 0.2556 , 0.7017 , 0.5396 ]],\n",
       " \n",
       "        [[0.     , 0.2798 , 0.1504 , 0.731  ]],\n",
       " \n",
       "        [[0.1533 , 0.3577 , 0.4084 , 0.6357 ]],\n",
       " \n",
       "        [[0.629  , 0.2788 , 0.8364 , 0.534  ]]], dtype=float16))"
      ]
     },
     "execution_count": 205,
     "metadata": {},
     "output_type": "execute_result"
    }
   ],
   "source": [
    "y"
   ]
  },
  {
   "cell_type": "markdown",
   "metadata": {},
   "source": [
    "10.3 plot performance "
   ]
  },
  {
   "cell_type": "code",
   "execution_count": null,
   "metadata": {},
   "outputs": [],
   "source": [
    "fig, ax = plt.subplots(ncols=3, figsize=(20,5))\n",
    "\n",
    "ax[0].plot(hist.history['total_loss'], color='teal', label='loss')\n",
    "ax[0].plot(hist.history['val_total_loss'], color='orange', label='val loss')\n",
    "ax[0].title.set_text('Loss')\n",
    "ax[0].legend()\n",
    "\n",
    "ax[1].plot(hist.history['class_loss'], color='teal', label='class loss')\n",
    "ax[1].plot(hist.history['val_class_loss'], color='orange', label='val class loss')\n",
    "ax[1].title.set_text('Classification Loss')\n",
    "ax[1].legend()\n",
    "\n",
    "ax[2].plot(hist.history['regress_loss'], color='teal', label='regress loss')\n",
    "ax[2].plot(hist.history['val_regress_loss'], color='orange', label='val regress loss')\n",
    "ax[2].title.set_text('Regression Loss')\n",
    "ax[2].legend()\n",
    "\n",
    "plt.show()"
   ]
  },
  {
   "cell_type": "markdown",
   "metadata": {},
   "source": [
    "`Make Predicitons`"
   ]
  },
  {
   "cell_type": "code",
   "execution_count": null,
   "metadata": {},
   "outputs": [],
   "source": [
    "test_data = test.as_numpy_iterator()\n",
    "test_sample = test_data.next()\n",
    "yhat = facetracker.predict(test_sample[0])\n",
    "\n",
    "fig, ax = plt.subplots(ncols=4, figsize=(20,20))\n",
    "for idx in range(4): \n",
    "    sample_image = test_sample[0][idx]\n",
    "    sample_coords = yhat[1][idx]\n",
    "    \n",
    "    if yhat[0][idx] > 0.9:\n",
    "        cv2.rectangle(sample_image, \n",
    "                      tuple(np.multiply(sample_coords[:2], [120,120]).astype(int)),\n",
    "                      tuple(np.multiply(sample_coords[2:], [120,120]).astype(int)), \n",
    "                            (255,0,0), 2)\n",
    "    \n",
    "    ax[idx].imshow(sample_image)"
   ]
  },
  {
   "attachments": {},
   "cell_type": "markdown",
   "metadata": {},
   "source": [
    "11 Real Time Detection"
   ]
  },
  {
   "cell_type": "code",
   "execution_count": null,
   "metadata": {},
   "outputs": [],
   "source": [
    "cap = cv2.VideoCapture(1)\n",
    "while cap.isOpened():\n",
    "    _ , frame = cap.read()\n",
    "    frame = frame[50:500, 50:500,:]\n",
    "    \n",
    "    rgb = cv2.cvtColor(frame, cv2.COLOR_BGR2RGB)\n",
    "    resized = tf.image.resize(rgb, (120,120))\n",
    "    \n",
    "    yhat = facetracker.predict(np.expand_dims(resized/255,0))\n",
    "    sample_coords = yhat[1][0]\n",
    "    \n",
    "    if yhat[0] > 0.5: \n",
    "        # Controls the main rectangle\n",
    "        cv2.rectangle(frame, \n",
    "                      tuple(np.multiply(sample_coords[:2], [450,450]).astype(int)),\n",
    "                      tuple(np.multiply(sample_coords[2:], [450,450]).astype(int)), \n",
    "                            (255,0,0), 2)\n",
    "        # Controls the label rectangle\n",
    "        cv2.rectangle(frame, \n",
    "                      tuple(np.add(np.multiply(sample_coords[:2], [450,450]).astype(int), \n",
    "                                    [0,-30])),\n",
    "                      tuple(np.add(np.multiply(sample_coords[:2], [450,450]).astype(int),\n",
    "                                    [80,0])), \n",
    "                            (255,0,0), -1)\n",
    "        \n",
    "        # Controls the text rendered\n",
    "        cv2.putText(frame, 'face', tuple(np.add(np.multiply(sample_coords[:2], [450,450]).astype(int),\n",
    "                                               [0,-5])),\n",
    "                    cv2.FONT_HERSHEY_SIMPLEX, 1, (255,255,255), 2, cv2.LINE_AA)\n",
    "    \n",
    "    cv2.imshow('EyeTrack', frame)\n",
    "    \n",
    "    if cv2.waitKey(1) & 0xFF == ord('q'):\n",
    "        break\n",
    "cap.release()\n",
    "cv2.destroyAllWindows()"
   ]
  }
 ],
 "metadata": {
  "kernelspec": {
   "display_name": "Python 3.9.12 ('base')",
   "language": "python",
   "name": "python3"
  },
  "language_info": {
   "codemirror_mode": {
    "name": "ipython",
    "version": 3
   },
   "file_extension": ".py",
   "mimetype": "text/x-python",
   "name": "python",
   "nbconvert_exporter": "python",
   "pygments_lexer": "ipython3",
   "version": "3.9.12"
  },
  "orig_nbformat": 4,
  "vscode": {
   "interpreter": {
    "hash": "7fa314d82d72aea569b00dcf0f88bc2326c8b9eb22fbf411bbf3da86c48ce324"
   }
  }
 },
 "nbformat": 4,
 "nbformat_minor": 2
}
